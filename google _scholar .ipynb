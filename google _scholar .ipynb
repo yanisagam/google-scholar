{
 "cells": [
  {
   "cell_type": "code",
   "execution_count": 1,
   "metadata": {},
   "outputs": [],
   "source": [
    "from bs4 import BeautifulSoup as bs\n",
    "import pandas as pd\n",
    "import time\n",
    "import requests\n",
    "import random"
   ]
  },
  {
   "cell_type": "code",
   "execution_count": 2,
   "metadata": {},
   "outputs": [],
   "source": [
    "from selenium import webdriver\n",
    "from bs4 import BeautifulSoup\n",
    "from requests import get\n",
    "import pandas as pd\n",
    "\n",
    "driver = webdriver.Chrome(\"chromedriver\")\n",
    "driver.get('https://scholar.google.com/citations?view_op=view_org&hl=en&org=10241031385301082500')\n"
   ]
  },
  {
   "cell_type": "code",
   "execution_count": 3,
   "metadata": {},
   "outputs": [],
   "source": [
    "author = pd.DataFrame(columns=['user_ID','name','affiliation'])"
   ]
  },
  {
   "cell_type": "code",
   "execution_count": 4,
   "metadata": {},
   "outputs": [],
   "source": [
    "row = 0\n",
    "while True:\n",
    "    all_ele = driver.find_elements_by_class_name('gsc_1usr')\n",
    "    for i in all_ele:\n",
    "        link = i.find_element_by_class_name('gs_ai_pho')\n",
    "        id = str(link.get_attribute('href')).replace('https://scholar.google.com/citations?hl=en&user=','')\n",
    "        name = i.find_element_by_class_name('gs_ai_name')\n",
    "        name = name.text \n",
    "        af = i.find_element_by_class_name('gs_ai_aff')\n",
    "        af = af.text\n",
    "        author.loc[row]=[id,name,af]\n",
    "        row +=1\n",
    "   \n",
    "    \n",
    "    page = requests.get(driver.current_url)\n",
    "    soup = BeautifulSoup(page.content)\n",
    "    results = soup.find_all(class_='gs_btnPR')\n",
    "    if results[0].has_attr('onclick'):\n",
    "        driver.find_element_by_css_selector(\".gs_btnPR\").click()\n",
    "    else:\n",
    "        break\n",
    "    time.sleep(random.randint(2,5))"
   ]
  },
  {
   "cell_type": "code",
   "execution_count": 5,
   "metadata": {},
   "outputs": [],
   "source": [
    "driver.close()"
   ]
  },
  {
   "cell_type": "code",
   "execution_count": 6,
   "metadata": {},
   "outputs": [
    {
     "data": {
      "text/html": [
       "<div>\n",
       "<style scoped>\n",
       "    .dataframe tbody tr th:only-of-type {\n",
       "        vertical-align: middle;\n",
       "    }\n",
       "\n",
       "    .dataframe tbody tr th {\n",
       "        vertical-align: top;\n",
       "    }\n",
       "\n",
       "    .dataframe thead th {\n",
       "        text-align: right;\n",
       "    }\n",
       "</style>\n",
       "<table border=\"1\" class=\"dataframe\">\n",
       "  <thead>\n",
       "    <tr style=\"text-align: right;\">\n",
       "      <th></th>\n",
       "      <th>user_ID</th>\n",
       "      <th>name</th>\n",
       "      <th>affiliation</th>\n",
       "    </tr>\n",
       "  </thead>\n",
       "  <tbody>\n",
       "    <tr>\n",
       "      <th>0</th>\n",
       "      <td>Re819VUAAAAJ</td>\n",
       "      <td>sandhya Babel</td>\n",
       "      <td>Professor, Sirindhorn International Institute ...</td>\n",
       "    </tr>\n",
       "    <tr>\n",
       "      <th>1</th>\n",
       "      <td>97Zz_TIAAAAJ</td>\n",
       "      <td>Sombat Muengtaweepongsa</td>\n",
       "      <td>Thammasat University</td>\n",
       "    </tr>\n",
       "    <tr>\n",
       "      <th>2</th>\n",
       "      <td>u-vl_aIAAAAJ</td>\n",
       "      <td>Wutiphol Sintunavarat</td>\n",
       "      <td>Department of Mathematics and Statistics, Facu...</td>\n",
       "    </tr>\n",
       "    <tr>\n",
       "      <th>3</th>\n",
       "      <td>9bUei6wAAAAJ</td>\n",
       "      <td>Bunyarit Uyyanonvara</td>\n",
       "      <td>Associated Professor, SIIT, Thammasat University</td>\n",
       "    </tr>\n",
       "    <tr>\n",
       "      <th>4</th>\n",
       "      <td>UOeuXvQAAAAJ</td>\n",
       "      <td>Chanathip Namprempre</td>\n",
       "      <td>Assistant Professor, Thammasat University</td>\n",
       "    </tr>\n",
       "    <tr>\n",
       "      <th>...</th>\n",
       "      <td>...</td>\n",
       "      <td>...</td>\n",
       "      <td>...</td>\n",
       "    </tr>\n",
       "    <tr>\n",
       "      <th>333</th>\n",
       "      <td>NLshr9gAAAAJ</td>\n",
       "      <td>Ines Ayu Handayani</td>\n",
       "      <td>Master's Student, SIIT, Thammasat University</td>\n",
       "    </tr>\n",
       "    <tr>\n",
       "      <th>334</th>\n",
       "      <td>oALsv34AAAAJ</td>\n",
       "      <td>Kritsasith Warin</td>\n",
       "      <td>Lecturer, Faculty of Dentistry, Thammasat Univ...</td>\n",
       "    </tr>\n",
       "    <tr>\n",
       "      <th>335</th>\n",
       "      <td>kJaNuNMAAAAJ</td>\n",
       "      <td>Dulyaphab Chaturongkul</td>\n",
       "      <td>Lecturer in Political Science, Thammasat Unive...</td>\n",
       "    </tr>\n",
       "    <tr>\n",
       "      <th>336</th>\n",
       "      <td>7XmRxVUAAAAJ</td>\n",
       "      <td>Punnavich Khowrurk</td>\n",
       "      <td>Department of Computer Science,Thammasat Unive...</td>\n",
       "    </tr>\n",
       "    <tr>\n",
       "      <th>337</th>\n",
       "      <td>vvP6YwkAAAAJ</td>\n",
       "      <td>Adipon Euajarusphan</td>\n",
       "      <td>Lecturer , Thammasat University</td>\n",
       "    </tr>\n",
       "  </tbody>\n",
       "</table>\n",
       "<p>338 rows × 3 columns</p>\n",
       "</div>"
      ],
      "text/plain": [
       "          user_ID                     name  \\\n",
       "0    Re819VUAAAAJ            sandhya Babel   \n",
       "1    97Zz_TIAAAAJ  Sombat Muengtaweepongsa   \n",
       "2    u-vl_aIAAAAJ    Wutiphol Sintunavarat   \n",
       "3    9bUei6wAAAAJ     Bunyarit Uyyanonvara   \n",
       "4    UOeuXvQAAAAJ     Chanathip Namprempre   \n",
       "..            ...                      ...   \n",
       "333  NLshr9gAAAAJ       Ines Ayu Handayani   \n",
       "334  oALsv34AAAAJ         Kritsasith Warin   \n",
       "335  kJaNuNMAAAAJ   Dulyaphab Chaturongkul   \n",
       "336  7XmRxVUAAAAJ       Punnavich Khowrurk   \n",
       "337  vvP6YwkAAAAJ      Adipon Euajarusphan   \n",
       "\n",
       "                                           affiliation  \n",
       "0    Professor, Sirindhorn International Institute ...  \n",
       "1                                 Thammasat University  \n",
       "2    Department of Mathematics and Statistics, Facu...  \n",
       "3     Associated Professor, SIIT, Thammasat University  \n",
       "4            Assistant Professor, Thammasat University  \n",
       "..                                                 ...  \n",
       "333       Master's Student, SIIT, Thammasat University  \n",
       "334  Lecturer, Faculty of Dentistry, Thammasat Univ...  \n",
       "335  Lecturer in Political Science, Thammasat Unive...  \n",
       "336  Department of Computer Science,Thammasat Unive...  \n",
       "337                    Lecturer , Thammasat University  \n",
       "\n",
       "[338 rows x 3 columns]"
      ]
     },
     "execution_count": 6,
     "metadata": {},
     "output_type": "execute_result"
    }
   ],
   "source": [
    "author"
   ]
  },
  {
   "cell_type": "code",
   "execution_count": 7,
   "metadata": {},
   "outputs": [],
   "source": [
    "paper = pd.DataFrame(columns=['title','authors','publication_date','description','cite_by'])"
   ]
  },
  {
   "cell_type": "code",
   "execution_count": 8,
   "metadata": {},
   "outputs": [
    {
     "name": "stdout",
     "output_type": "stream",
     "text": [
      "170\n",
      "people pass 0\n",
      "no. 1\n",
      "people pass 0\n",
      "no. 2\n",
      "people pass 0\n",
      "no. 3\n",
      "people pass 0\n",
      "no. 4\n",
      "people pass 0\n",
      "no. 5\n",
      "people pass 0\n",
      "no. 6\n",
      "people pass 0\n",
      "no. 7\n",
      "people pass 0\n",
      "no. 8\n",
      "people pass 0\n",
      "no. 9\n",
      "people pass 0\n",
      "no. 10\n",
      "people pass 0\n",
      "no. 11\n",
      "people pass 0\n",
      "no. 12\n"
     ]
    },
    {
     "ename": "KeyboardInterrupt",
     "evalue": "",
     "output_type": "error",
     "traceback": [
      "\u001b[1;31m---------------------------------------------------------------------------\u001b[0m",
      "\u001b[1;31mKeyboardInterrupt\u001b[0m                         Traceback (most recent call last)",
      "\u001b[1;32m<ipython-input-8-84ac7b48c8c7>\u001b[0m in \u001b[0;36m<module>\u001b[1;34m\u001b[0m\n\u001b[0;32m     42\u001b[0m         \u001b[0mprint\u001b[0m\u001b[1;33m(\u001b[0m\u001b[1;34m'people pass'\u001b[0m\u001b[1;33m,\u001b[0m\u001b[0mre\u001b[0m\u001b[1;33m)\u001b[0m\u001b[1;33m\u001b[0m\u001b[1;33m\u001b[0m\u001b[0m\n\u001b[0;32m     43\u001b[0m         \u001b[0mprint\u001b[0m\u001b[1;33m(\u001b[0m\u001b[1;34m'no.'\u001b[0m\u001b[1;33m,\u001b[0m\u001b[0mlen\u001b[0m\u001b[1;33m(\u001b[0m\u001b[0mpaper\u001b[0m\u001b[1;33m)\u001b[0m\u001b[1;33m)\u001b[0m\u001b[1;33m\u001b[0m\u001b[1;33m\u001b[0m\u001b[0m\n\u001b[1;32m---> 44\u001b[1;33m         \u001b[0mtime\u001b[0m\u001b[1;33m.\u001b[0m\u001b[0msleep\u001b[0m\u001b[1;33m(\u001b[0m\u001b[1;36m2\u001b[0m\u001b[1;33m)\u001b[0m\u001b[1;33m\u001b[0m\u001b[1;33m\u001b[0m\u001b[0m\n\u001b[0m\u001b[0;32m     45\u001b[0m     \u001b[0mre\u001b[0m \u001b[1;33m+=\u001b[0m \u001b[1;36m1\u001b[0m\u001b[1;33m\u001b[0m\u001b[1;33m\u001b[0m\u001b[0m\n",
      "\u001b[1;31mKeyboardInterrupt\u001b[0m: "
     ]
    }
   ],
   "source": [
    "driver = webdriver.Chrome(\"chromedriver\")\n",
    "row = 0\n",
    "re = 0\n",
    "for usr_id in author['user_ID']:\n",
    "    driver.get('https://scholar.google.com/citations?hl=en&user='+usr_id)\n",
    "\n",
    "    a=driver.find_elements_by_class_name('gs_btnPD')\n",
    "    while a[0].is_enabled()==True:\n",
    "        driver.find_element_by_class_name('gs_btnPD').click()\n",
    "        time.sleep(3)\n",
    "    link = driver.find_elements_by_class_name('gsc_a_at')\n",
    "    link = [i.get_attribute('data-href') for i in link]\n",
    "    print(len(link))\n",
    "\n",
    "    for url in link:\n",
    "        driver.get('https://scholar.google.com/'+url)\n",
    "        try :\n",
    "            \n",
    "            table = driver.find_element_by_id('gsc_vcd_table')\n",
    "            b = table.find_elements_by_class_name('gs_scl')\n",
    "            title =''\n",
    "            Au = ''\n",
    "            PD = ''\n",
    "            Des = ''\n",
    "            cited = ''\n",
    "            for i in b:\n",
    "                title = driver.find_elements_by_class_name('gsc_vcd_title_link')[0].text\n",
    "                if i.find_elements_by_class_name('gsc_vcd_field')[0].text == 'Authors':\n",
    "                    Au = i.find_elements_by_class_name('gsc_vcd_value')[0].text\n",
    "                elif i.find_elements_by_class_name('gsc_vcd_field')[0].text == 'Publication date':\n",
    "                    PD =i.find_elements_by_class_name('gsc_vcd_value')[0].text\n",
    "                elif i.find_elements_by_class_name('gsc_vcd_field')[0].text == 'Description':\n",
    "                    Des =i.find_elements_by_class_name('gsc_vcd_value')[0].text\n",
    "                elif i.find_elements_by_class_name('gsc_vcd_field')[0].text == 'Total citations':\n",
    "                    cited =i.find_elements_by_css_selector('a')[0].text.replace('Cited by ','')\n",
    "\n",
    "            paper.loc[row]=[title,Au,PD,Des,cited]\n",
    "            row += 1\n",
    "        except :\n",
    "            pass\n",
    "        \n",
    "        print('people pass',re)\n",
    "        print('no.',len(paper))\n",
    "        time.sleep(2)\n",
    "    re += 1"
   ]
  },
  {
   "cell_type": "code",
   "execution_count": null,
   "metadata": {
    "scrolled": true
   },
   "outputs": [],
   "source": [
    "paper"
   ]
  },
  {
   "cell_type": "code",
   "execution_count": null,
   "metadata": {},
   "outputs": [],
   "source": [
    "driver.close()  "
   ]
  },
  {
   "cell_type": "code",
   "execution_count": null,
   "metadata": {},
   "outputs": [],
   "source": [
    "author.to_csv('author_1.csv')\n",
    "paper.to_csv('paper_1.csv')"
   ]
  },
  {
   "cell_type": "code",
   "execution_count": null,
   "metadata": {},
   "outputs": [],
   "source": []
  }
 ],
 "metadata": {
  "kernelspec": {
   "display_name": "Python 3",
   "language": "python",
   "name": "python3"
  },
  "language_info": {
   "codemirror_mode": {
    "name": "ipython",
    "version": 3
   },
   "file_extension": ".py",
   "mimetype": "text/x-python",
   "name": "python",
   "nbconvert_exporter": "python",
   "pygments_lexer": "ipython3",
   "version": "3.7.4"
  }
 },
 "nbformat": 4,
 "nbformat_minor": 4
}
