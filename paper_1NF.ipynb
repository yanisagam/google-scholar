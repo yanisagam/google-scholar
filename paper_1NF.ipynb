{
 "cells": [
  {
   "cell_type": "code",
   "execution_count": null,
   "metadata": {},
   "outputs": [],
   "source": [
    "import pandas as pd \n",
    "#read file paper.csv\n",
    "paper=pd.read_csv('paper_new.csv')\n",
    "p_paper = pd.DataFrame(columns=['title','authors','publication_date','description','cite_by'])\n",
    "rows = 0\n",
    "#normalize authors field to 1NF \n",
    "for index, row in paper.iterrows():\n",
    "    for token in str(row['authors']).split(','):\n",
    "        p_paper.loc[rows]=[row['title'],token,row['publication_date'],row['description'],row['cite_by']]\n",
    "        rows +=1\n",
    "#save file as csv\n",
    "p_paper.to_csv('1NF_paper.csv')"
   ]
  }
 ],
 "metadata": {
  "kernelspec": {
   "display_name": "Python 3",
   "language": "python",
   "name": "python3"
  },
  "language_info": {
   "codemirror_mode": {
    "name": "ipython",
    "version": 3
   },
   "file_extension": ".py",
   "mimetype": "text/x-python",
   "name": "python",
   "nbconvert_exporter": "python",
   "pygments_lexer": "ipython3",
   "version": "3.7.7"
  }
 },
 "nbformat": 4,
 "nbformat_minor": 4
}
